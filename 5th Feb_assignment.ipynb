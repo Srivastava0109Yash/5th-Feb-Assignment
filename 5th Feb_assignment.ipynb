{
 "cells": [
  {
   "cell_type": "markdown",
   "id": "a836d949",
   "metadata": {},
   "source": [
    "### Q1. Explain Class and Object with respect to Object-Oriented Programming. Give a suitable example. Q2. Name the four pillars of OOPs"
   ]
  },
  {
   "cell_type": "markdown",
   "id": "6ce8c83d",
   "metadata": {},
   "source": [
    "'''Class and Object are fundamental concepts in Object-Oriented Programming (OOP).\n",
    "A Class is a blueprint or that defines the properties and methods of a specific type of object. \n",
    "It serves as a blueprint for creating objects and encapsulates data and behavior.\n",
    "\n",
    "An Object is an instance of a class. It is a real-world entity that has its own properties (state) and behavior (methods). \n",
    "An object can be thought of as a specific occurrence of a class, with its own unique values for the properties defined by the class. \n",
    "\n",
    "For example, consider a \"Person\" class with properties such as name, age, and address and methods such as walk and talk. \n",
    "Each individual person can be thought of as an object of the \"Person\" class, having their own unique name, age, address, and behavior.'''"
   ]
  },
  {
   "cell_type": "markdown",
   "id": "10ea24fd",
   "metadata": {},
   "source": [
    "### Q2. Name the four pillars of OOPs."
   ]
  },
  {
   "cell_type": "markdown",
   "id": "334e628a",
   "metadata": {},
   "source": [
    "Encapsulation,  Abstraction,  Inheritance,  Polymorphism"
   ]
  },
  {
   "cell_type": "markdown",
   "id": "766725c9",
   "metadata": {},
   "source": [
    "### Q3. Explain why the __init__() function is used. Give a suitable example. \n"
   ]
  },
  {
   "cell_type": "markdown",
   "id": "8fdf5e66",
   "metadata": {},
   "source": [
    "'''The __init__() function is also known as a constructor. The  __init__() function is used to initialize the state of an object when it is created, by setting its initial values for the attributes defined by the class'''"
   ]
  },
  {
   "cell_type": "code",
   "execution_count": 4,
   "id": "b7dcf6e6",
   "metadata": {},
   "outputs": [],
   "source": [
    "#example:\n",
    "\n",
    "class Person:\n",
    "    \n",
    "    def __init__(self,name,age,gender):\n",
    "        self.name=name\n",
    "        self.age=age\n",
    "        self.gender=gender\n",
    "        \n",
    "p=Person('Yash Srivastava',21,'Male')"
   ]
  },
  {
   "cell_type": "code",
   "execution_count": 7,
   "id": "4537f2f9",
   "metadata": {},
   "outputs": [
    {
     "data": {
      "text/plain": [
       "(21, 'Male', 'Yash Srivastava')"
      ]
     },
     "execution_count": 7,
     "metadata": {},
     "output_type": "execute_result"
    }
   ],
   "source": [
    "p.age,p.gender,p.name"
   ]
  },
  {
   "cell_type": "markdown",
   "id": "7cbbc794",
   "metadata": {},
   "source": [
    "### Q4. Why self is used in OOPs? \n"
   ]
  },
  {
   "cell_type": "markdown",
   "id": "fad3ef6a",
   "metadata": {},
   "source": [
    "the 'self' keyword is used to refer to the instance of the class that is being operated on. It is used to access the attributes and methods of the class from within the class definition."
   ]
  },
  {
   "cell_type": "code",
   "execution_count": 10,
   "id": "56f9fd65",
   "metadata": {},
   "outputs": [
    {
     "name": "stdout",
     "output_type": "stream",
     "text": [
      "Hello, Mr. Yash Srivastava\n"
     ]
    }
   ],
   "source": [
    "# example:\n",
    "\n",
    "class Person1:\n",
    "    def __init__(self,name):\n",
    "        self.name=name\n",
    "        \n",
    "    def greet(self):\n",
    "        print(\"Hello, Mr.\", self.name)\n",
    "        \n",
    "p=Person1(\"Yash Srivastava\")\n",
    "p.greet()"
   ]
  },
  {
   "cell_type": "markdown",
   "id": "0d2402bf",
   "metadata": {},
   "source": [
    "### Q5. What is inheritance? Give an example for each type of inheritance. \n"
   ]
  },
  {
   "cell_type": "markdown",
   "id": "bf368ce2",
   "metadata": {},
   "source": [
    "Inheritance is the concept that allows a class to inherit properties and behaviour from parent class.\n",
    "It is used to create a heirarchy of classes,allows for code reuse and reduce duplication of code"
   ]
  },
  {
   "cell_type": "markdown",
   "id": "28f252f7",
   "metadata": {},
   "source": [
    "Types of Inheritance:\n",
    "    \n",
    "    1.Single Inheritance: A subclass Inherits from single Superclass.\n",
    "    \n",
    "    2.Multiple Inheritance: A subclass inherits from multiple superclasses.This allows a class to inherit attributes and                               methods from multiple sources.\n",
    "    \n",
    "    3.Multi-level Inheritance: A subclass inherits from a superclass, which in turn inherits from another superclass."
   ]
  },
  {
   "cell_type": "code",
   "execution_count": 11,
   "id": "b72d134d",
   "metadata": {},
   "outputs": [
    {
     "name": "stdout",
     "output_type": "stream",
     "text": [
      " Chevrolet Camaro\n"
     ]
    }
   ],
   "source": [
    "# 1. Single Inheritance \n",
    "\n",
    "class Vehicle:\n",
    "    \n",
    "    def __init__(self, wheeler):\n",
    "        self.wheeler=wheeler\n",
    "\n",
    "class Car(Vehicle):\n",
    "    \n",
    "    def Name(self):\n",
    "        print(\" Chevrolet Camaro\")\n",
    "        \n",
    "car=Car(4)\n",
    "car.Name()\n",
    "        "
   ]
  },
  {
   "cell_type": "code",
   "execution_count": 16,
   "id": "ba3ffd4f",
   "metadata": {},
   "outputs": [
    {
     "name": "stdout",
     "output_type": "stream",
     "text": [
      "Breathing\n",
      "Is Animal\n",
      "Is flying\n"
     ]
    }
   ],
   "source": [
    "# 2. Multiple Inheritance:\n",
    "\n",
    "class Biotic:\n",
    "    \n",
    "    def __init__(self,name):\n",
    "        self.name=name\n",
    "    \n",
    "    def breathe(self):\n",
    "        print(\"Breathing\")\n",
    "        \n",
    "class Mammal(Biotic):\n",
    "    \n",
    "    def Animal(self):\n",
    "        print(\"Is Animal\")\n",
    "        \n",
    "class WingedAnimal(Biotic):\n",
    "    \n",
    "    def fly(self):\n",
    "        print(\"Is flying\")\n",
    "        \n",
    "class Bat(Mammal,WingedAnimal):\n",
    "    pass\n",
    "\n",
    "\n",
    "bat=Bat(\"Korona\")\n",
    "\n",
    "bat.breathe()\n",
    "bat.Animal()\n",
    "bat.fly()"
   ]
  },
  {
   "cell_type": "code",
   "execution_count": 20,
   "id": "cf0c3670",
   "metadata": {},
   "outputs": [
    {
     "name": "stdout",
     "output_type": "stream",
     "text": [
      "Breathing\n",
      "They feed their babies\n",
      "Is Moving\n"
     ]
    }
   ],
   "source": [
    "# 3. Multi-level Inheritance\n",
    "\n",
    "class Biotic:\n",
    "    \n",
    "    def __init__(self,name):\n",
    "        self.name=name\n",
    "    \n",
    "    def breathe(self):\n",
    "        print(\"Breathing\")\n",
    "        \n",
    "class Animal(Biotic):\n",
    "    \n",
    "    def move(self):\n",
    "        print(\"Is Moving\")\n",
    "        \n",
    "class Mammal(Animal):\n",
    "    \n",
    "    def feed_baby(self):\n",
    "        print(\"They feed their babies\")\n",
    "        \n",
    "dog=Mammal(\"Tommy\")\n",
    "dog.breathe()\n",
    "dog.feed_baby()\n",
    "dog.move()"
   ]
  },
  {
   "cell_type": "code",
   "execution_count": null,
   "id": "a3b3da33",
   "metadata": {},
   "outputs": [],
   "source": []
  }
 ],
 "metadata": {
  "kernelspec": {
   "display_name": "Python 3 (ipykernel)",
   "language": "python",
   "name": "python3"
  },
  "language_info": {
   "codemirror_mode": {
    "name": "ipython",
    "version": 3
   },
   "file_extension": ".py",
   "mimetype": "text/x-python",
   "name": "python",
   "nbconvert_exporter": "python",
   "pygments_lexer": "ipython3",
   "version": "3.9.7"
  }
 },
 "nbformat": 4,
 "nbformat_minor": 5
}
